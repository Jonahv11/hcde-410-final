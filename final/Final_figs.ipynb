{
 "cells": [
  {
   "cell_type": "markdown",
   "id": "55b4bbde-d8d0-4d2f-8838-5904b0c5ac58",
   "metadata": {},
   "source": [
    "## Setup"
   ]
  },
  {
   "cell_type": "code",
   "execution_count": 13,
   "id": "b1e4058c-5510-4af6-9716-7bde0aae784b",
   "metadata": {},
   "outputs": [],
   "source": [
    "import csv\n",
    "import pandas as pd\n",
    "import numpy as np\n",
    "import matplotlib.pyplot as plt\n",
    "import matplotlib as mpl\n",
    "import seaborn as sns\n",
    "import plotly.express as px\n",
    "import plotly.graph_objs as go\n",
    "from plotly.subplots import make_subplots"
   ]
  },
  {
   "cell_type": "markdown",
   "id": "fd551b3d-b528-4251-9201-10954f059666",
   "metadata": {},
   "source": [
    "Reading data into a dataframe, and renaming columns to work with functions:"
   ]
  },
  {
   "cell_type": "code",
   "execution_count": 14,
   "id": "b4733461-2d10-4721-81e1-156b44c3f603",
   "metadata": {},
   "outputs": [
    {
     "data": {
      "text/plain": [
       "array(['VIN (1-10)', 'County', 'City', 'State', 'Postal Code', 'Mdlyr',\n",
       "       'Make', 'Model', 'EVT',\n",
       "       'Clean Alternative Fuel Vehicle (CAFV) Eligibility',\n",
       "       'Electric Range', 'Base MSRP', 'Legislative District',\n",
       "       'DOL Vehicle ID', 'Vehicle Location', 'Electric Utility',\n",
       "       '2020 Census Tract'], dtype=object)"
      ]
     },
     "execution_count": 14,
     "metadata": {},
     "output_type": "execute_result"
    }
   ],
   "source": [
    "evdata = pd.read_csv('Electric_Vehicle_Population_Data.csv')\n",
    "evdata = evdata.rename(columns = {'Electric Vehicle Type' : 'EVT'})\n",
    "evdata = evdata.rename(columns = {'Model Year' : 'Mdlyr'})\n",
    "evdata.columns.values"
   ]
  },
  {
   "cell_type": "markdown",
   "id": "8bcacd36-29e7-4570-8a05-5fbbc2633170",
   "metadata": {},
   "source": [
    "Creating separate dataframes for each vehicle type:"
   ]
  },
  {
   "cell_type": "code",
   "execution_count": 15,
   "id": "a0e07516-1d34-4962-8aec-b03f834c04e9",
   "metadata": {},
   "outputs": [],
   "source": [
    "elecs = evdata.loc[evdata.EVT == 'Battery Electric Vehicle (BEV)']\n",
    "hybrids = evdata.loc[evdata.EVT == 'Plug-in Hybrid Electric Vehicle (PHEV)']"
   ]
  },
  {
   "cell_type": "markdown",
   "id": "4edd859e-88a7-44c4-b4ce-9c2da43ec889",
   "metadata": {},
   "source": [
    "Checking which years were in the dataset:"
   ]
  },
  {
   "cell_type": "code",
   "execution_count": 16,
   "id": "a909cacc-6372-4990-88c7-23ea54eabc27",
   "metadata": {},
   "outputs": [
    {
     "data": {
      "text/plain": [
       "array([2020, 2019, 2021, 2017, 2015, 2018, 2013, 2016, 2022, 2011, 2012,\n",
       "       2023, 2014, 2008, 2010, 2000, 1999, 1998, 2002, 2003, 1997])"
      ]
     },
     "execution_count": 16,
     "metadata": {},
     "output_type": "execute_result"
    }
   ],
   "source": [
    "evdata.Mdlyr.unique()"
   ]
  },
  {
   "cell_type": "markdown",
   "id": "ca39bb4c-dbae-4497-b846-eeac197f709a",
   "metadata": {},
   "source": [
    "Creating list with all of the model years, and creating a list with the sums for each year of registered hybrid vehicles:"
   ]
  },
  {
   "cell_type": "code",
   "execution_count": 17,
   "id": "490245e3-442d-4f05-926a-aa490326a41f",
   "metadata": {},
   "outputs": [],
   "source": [
    "yr_list = [1997, 1998, 1999, 2000, 2002, 2003, 2008, 2010, 2011, 2012, 2013, 2014, 2015, 2016, 2017, 2018, 2019, 2020, 2021, 2022, 2023]\n",
    "hyb_list = list()\n",
    "h_list = list()\n",
    "for yr in range(1997, 2024):\n",
    "    if yr in yr_list:\n",
    "        val = hybrids.loc[hybrids.Mdlyr == yr]\n",
    "        hyb_list.append(val)\n",
    "        h_list.append(len(val))"
   ]
  },
  {
   "cell_type": "markdown",
   "id": "290d7e2a-d9de-4251-ab2e-8db198f93bec",
   "metadata": {},
   "source": [
    "Creating list of yearly sums for registered fully electric vehicles:"
   ]
  },
  {
   "cell_type": "code",
   "execution_count": 18,
   "id": "4547651c-5309-40b6-942c-6789060def55",
   "metadata": {},
   "outputs": [],
   "source": [
    "ele_list = list()\n",
    "e_list = list()\n",
    "for yr in range(1997, 2024):\n",
    "    if yr in yr_list:\n",
    "        val = elecs.loc[elecs.Mdlyr == yr]\n",
    "        ele_list.append(val)\n",
    "        e_list.append(len(val))\n",
    "    "
   ]
  },
  {
   "cell_type": "markdown",
   "id": "f75fed97-cbd6-4f5a-8c66-fa423edef4b1",
   "metadata": {},
   "source": [
    "Stitching data from each list together in a list of dictionaries:"
   ]
  },
  {
   "cell_type": "code",
   "execution_count": 19,
   "id": "c192162a-11f1-4bfc-8ee5-6a17c325b176",
   "metadata": {},
   "outputs": [],
   "source": [
    "yrlyev = {'Year': yr_list,\n",
    "          'Hybrids': h_list,\n",
    "         'Electrics': e_list}"
   ]
  },
  {
   "cell_type": "markdown",
   "id": "8504e6f1-3847-40aa-a8c8-7b86211097ee",
   "metadata": {},
   "source": [
    "Turning the list of dictionaries into a dataframe:"
   ]
  },
  {
   "cell_type": "code",
   "execution_count": 20,
   "id": "6497847b-61f5-49f1-9567-bab8e5db3a63",
   "metadata": {},
   "outputs": [],
   "source": [
    "evyr_df = pd.DataFrame(data=yrlyev)"
   ]
  },
  {
   "cell_type": "markdown",
   "id": "8f3e2063-4b38-49b1-a8ed-aedf9cfc2bd6",
   "metadata": {},
   "source": [
    "## Data"
   ]
  },
  {
   "cell_type": "code",
   "execution_count": 21,
   "id": "bdd43da3-dc2b-4487-9f3a-a50f76d24cc0",
   "metadata": {},
   "outputs": [
    {
     "data": {
      "text/html": [
       "<div>\n",
       "<style scoped>\n",
       "    .dataframe tbody tr th:only-of-type {\n",
       "        vertical-align: middle;\n",
       "    }\n",
       "\n",
       "    .dataframe tbody tr th {\n",
       "        vertical-align: top;\n",
       "    }\n",
       "\n",
       "    .dataframe thead th {\n",
       "        text-align: right;\n",
       "    }\n",
       "</style>\n",
       "<table border=\"1\" class=\"dataframe\">\n",
       "  <thead>\n",
       "    <tr style=\"text-align: right;\">\n",
       "      <th></th>\n",
       "      <th>Year</th>\n",
       "      <th>Hybrids</th>\n",
       "      <th>Electrics</th>\n",
       "    </tr>\n",
       "  </thead>\n",
       "  <tbody>\n",
       "    <tr>\n",
       "      <th>0</th>\n",
       "      <td>1997</td>\n",
       "      <td>0</td>\n",
       "      <td>1</td>\n",
       "    </tr>\n",
       "    <tr>\n",
       "      <th>1</th>\n",
       "      <td>1998</td>\n",
       "      <td>0</td>\n",
       "      <td>1</td>\n",
       "    </tr>\n",
       "    <tr>\n",
       "      <th>2</th>\n",
       "      <td>1999</td>\n",
       "      <td>0</td>\n",
       "      <td>4</td>\n",
       "    </tr>\n",
       "    <tr>\n",
       "      <th>3</th>\n",
       "      <td>2000</td>\n",
       "      <td>0</td>\n",
       "      <td>9</td>\n",
       "    </tr>\n",
       "    <tr>\n",
       "      <th>4</th>\n",
       "      <td>2002</td>\n",
       "      <td>0</td>\n",
       "      <td>2</td>\n",
       "    </tr>\n",
       "    <tr>\n",
       "      <th>5</th>\n",
       "      <td>2003</td>\n",
       "      <td>0</td>\n",
       "      <td>1</td>\n",
       "    </tr>\n",
       "    <tr>\n",
       "      <th>6</th>\n",
       "      <td>2008</td>\n",
       "      <td>0</td>\n",
       "      <td>22</td>\n",
       "    </tr>\n",
       "    <tr>\n",
       "      <th>7</th>\n",
       "      <td>2010</td>\n",
       "      <td>3</td>\n",
       "      <td>21</td>\n",
       "    </tr>\n",
       "    <tr>\n",
       "      <th>8</th>\n",
       "      <td>2011</td>\n",
       "      <td>75</td>\n",
       "      <td>753</td>\n",
       "    </tr>\n",
       "    <tr>\n",
       "      <th>9</th>\n",
       "      <td>2012</td>\n",
       "      <td>870</td>\n",
       "      <td>798</td>\n",
       "    </tr>\n",
       "    <tr>\n",
       "      <th>10</th>\n",
       "      <td>2013</td>\n",
       "      <td>1645</td>\n",
       "      <td>2936</td>\n",
       "    </tr>\n",
       "    <tr>\n",
       "      <th>11</th>\n",
       "      <td>2014</td>\n",
       "      <td>1804</td>\n",
       "      <td>1805</td>\n",
       "    </tr>\n",
       "    <tr>\n",
       "      <th>12</th>\n",
       "      <td>2015</td>\n",
       "      <td>1323</td>\n",
       "      <td>3612</td>\n",
       "    </tr>\n",
       "    <tr>\n",
       "      <th>13</th>\n",
       "      <td>2016</td>\n",
       "      <td>1811</td>\n",
       "      <td>3891</td>\n",
       "    </tr>\n",
       "    <tr>\n",
       "      <th>14</th>\n",
       "      <td>2017</td>\n",
       "      <td>4100</td>\n",
       "      <td>4458</td>\n",
       "    </tr>\n",
       "    <tr>\n",
       "      <th>15</th>\n",
       "      <td>2018</td>\n",
       "      <td>4278</td>\n",
       "      <td>9946</td>\n",
       "    </tr>\n",
       "    <tr>\n",
       "      <th>16</th>\n",
       "      <td>2019</td>\n",
       "      <td>1874</td>\n",
       "      <td>8576</td>\n",
       "    </tr>\n",
       "    <tr>\n",
       "      <th>17</th>\n",
       "      <td>2020</td>\n",
       "      <td>1611</td>\n",
       "      <td>9315</td>\n",
       "    </tr>\n",
       "    <tr>\n",
       "      <th>18</th>\n",
       "      <td>2021</td>\n",
       "      <td>3541</td>\n",
       "      <td>14755</td>\n",
       "    </tr>\n",
       "    <tr>\n",
       "      <th>19</th>\n",
       "      <td>2022</td>\n",
       "      <td>4015</td>\n",
       "      <td>23507</td>\n",
       "    </tr>\n",
       "    <tr>\n",
       "      <th>20</th>\n",
       "      <td>2023</td>\n",
       "      <td>1500</td>\n",
       "      <td>11853</td>\n",
       "    </tr>\n",
       "  </tbody>\n",
       "</table>\n",
       "</div>"
      ],
      "text/plain": [
       "    Year  Hybrids  Electrics\n",
       "0   1997        0          1\n",
       "1   1998        0          1\n",
       "2   1999        0          4\n",
       "3   2000        0          9\n",
       "4   2002        0          2\n",
       "5   2003        0          1\n",
       "6   2008        0         22\n",
       "7   2010        3         21\n",
       "8   2011       75        753\n",
       "9   2012      870        798\n",
       "10  2013     1645       2936\n",
       "11  2014     1804       1805\n",
       "12  2015     1323       3612\n",
       "13  2016     1811       3891\n",
       "14  2017     4100       4458\n",
       "15  2018     4278       9946\n",
       "16  2019     1874       8576\n",
       "17  2020     1611       9315\n",
       "18  2021     3541      14755\n",
       "19  2022     4015      23507\n",
       "20  2023     1500      11853"
      ]
     },
     "metadata": {},
     "output_type": "display_data"
    }
   ],
   "source": [
    "display(evyr_df)"
   ]
  },
  {
   "cell_type": "markdown",
   "id": "8422b9bc-1c51-4a82-a963-a7e8e7f4423e",
   "metadata": {},
   "source": [
    "Using dataframe to create a stacked plot of hybrids and electric vehicles vs model year:"
   ]
  },
  {
   "cell_type": "code",
   "execution_count": 22,
   "id": "b59bcc96-e68f-4354-9976-a6cd04d32758",
   "metadata": {},
   "outputs": [
    {
     "data": {
      "image/png": "[encoded data removed]",
      "text/plain": [
       "<Figure size 864x432 with 1 Axes>"
      ]
     },
     "metadata": {
      "needs_background": "light"
     },
     "output_type": "display_data"
    }
   ],
   "source": [
    "fig, ax = plt.subplots(figsize=(12, 6))\n",
    "\n",
    "# Plot data\n",
    "# ax.plot(elecs['Model Year'], elecs['northbound pedestrians'], label='Full Electric Vehicles')\n",
    "# ax.plot(hybrids['Model Year'], hybrids['southbound pedestrians'], label='Hybrid Vehicles')\n",
    "\n",
    "ax.stackplot(evyr_df['Year'], evyr_df['Electrics'], evyr_df['Hybrids'], labels=['Electrics', 'Hybrids'])\n",
    "ax.set_title('Comparitive Quantities of Each Type of Electric Vehicle')\n",
    "ax.set_xlabel('Model Year of Car')\n",
    "ax.set_ylabel('Number of Cars Purchased')\n",
    "ax.legend()\n",
    "plt.xlim(left = 2010)\n",
    "plt.xlim(right = 2023)\n",
    "plt.show()"
   ]
  },
  {
   "cell_type": "markdown",
   "id": "99fac6e2-f810-4031-9689-fd5fade4af46",
   "metadata": {},
   "source": [
    "## Scrapped Shit"
   ]
  },
  {
   "cell_type": "code",
   "execution_count": 6,
   "id": "bc27636a-62f3-485c-ab41-1646e8d77bdf",
   "metadata": {},
   "outputs": [],
   "source": [
    "# hyb97 = hybrids.loc[hybrids.Mdlyr == 1997]\n",
    "# h97 = len(hyb97)\n",
    "# hyb98 = hybrids.loc[hybrids.Mdlyr == 1998]\n",
    "# h98 = len(hyb98)\n",
    "# hyb99 = hybrids.loc[hybrids.Mdlyr == 1999]\n",
    "# h99 = len(hyb99)\n",
    "# hyb00 = hybrids.loc[hybrids.Mdlyr == 2000]\n",
    "# h00 = len(hyb00)\n",
    "# hyb02 = hybrids.loc[hybrids.Mdlyr == 2002]\n",
    "# h02 = len(hyb02)\n",
    "# hyb03 = hybrids.loc[hybrids.Mdlyr == 2003]\n",
    "# h03 = len(hyb03)\n",
    "# hyb08 = hybrids.loc[hybrids.Mdlyr == 2008]\n",
    "# h08 = len(hyb08)\n",
    "# hyb10 = hybrids.loc[hybrids.Mdlyr == 2010]\n",
    "# h10 = len(hyb10)\n",
    "# hyb11 = hybrids.loc[hybrids.Mdlyr == 2011]\n",
    "# h11 = len(hyb11)\n",
    "# hyb12 = hybrids.loc[hybrids.Mdlyr == 2012]\n",
    "# h12 = len(hyb12)\n",
    "# hyb13 = hybrids.loc[hybrids.Mdlyr == 2013]\n",
    "# h13 = len(hyb13)\n",
    "# hyb14 = hybrids.loc[hybrids.Mdlyr == 2014]\n",
    "# h14 = len(hyb14)\n",
    "# hyb15 = hybrids.loc[hybrids.Mdlyr == 2015]\n",
    "# h15 = len(hyb15)\n",
    "# hyb16 = hybrids.loc[hybrids.Mdlyr == 2016]\n",
    "# h16 = len(hyb16)\n",
    "# hyb17 = hybrids.loc[hybrids.Mdlyr == 2017]\n",
    "# h17 = len(hyb17)\n",
    "# hyb18 = hybrids.loc[hybrids.Mdlyr == 2018]\n",
    "# h18 = len(hyb18)\n",
    "# hyb19 = hybrids.loc[hybrids.Mdlyr == 2019]\n",
    "# h19 = len(hyb19)\n",
    "# hyb20 = hybrids.loc[hybrids.Mdlyr == 2020]\n",
    "# h20 = len(hyb20)\n",
    "# hyb21 = hybrids.loc[hybrids.Mdlyr == 2021]\n",
    "# h21 = len(hyb21)\n",
    "# hyb22 = hybrids.loc[hybrids.Mdlyr == 2022]\n",
    "# h22 = len(hyb22)\n",
    "# hyb23 = hybrids.loc[hybrids.Mdlyr == 2023]\n",
    "# h23 = len(hyb23)"
   ]
  },
  {
   "cell_type": "code",
   "execution_count": 7,
   "id": "a31aa906-da3e-46c0-b2c8-a1cb1b0a7bbb",
   "metadata": {},
   "outputs": [],
   "source": [
    "# ele97 = elecs.loc[elecs.Mdlyr == 1997]\n",
    "# ele98 = elecs.loc[elecs.Mdlyr == 1998]\n",
    "# ele99 = elecs.loc[elecs.Mdlyr == 1999]\n",
    "# ele00 = elecs.loc[elecs.Mdlyr == 2000]\n",
    "# ele02 = elecs.loc[elecs.Mdlyr == 2002]\n",
    "# ele03 = elecs.loc[elecs.Mdlyr == 2003]\n",
    "# ele08 = elecs.loc[elecs.Mdlyr == 2008]\n",
    "# ele10 = elecs.loc[elecs.Mdlyr == 2010]\n",
    "# ele11 = elecs.loc[elecs.Mdlyr == 2011]\n",
    "# ele12 = elecs.loc[elecs.Mdlyr == 2012]\n",
    "# ele13 = elecs.loc[elecs.Mdlyr == 2013]\n",
    "# ele14 = elecs.loc[elecs.Mdlyr == 2014]\n",
    "# ele15 = elecs.loc[elecs.Mdlyr == 2015]\n",
    "# ele16 = elecs.loc[elecs.Mdlyr == 2016]\n",
    "# ele17 = elecs.loc[elecs.Mdlyr == 2017]\n",
    "# ele18 = elecs.loc[elecs.Mdlyr == 2018]\n",
    "# ele19 = elecs.loc[elecs.Mdlyr == 2019]\n",
    "# ele20 = elecs.loc[elecs.Mdlyr == 2020]\n",
    "# ele21 = elecs.loc[elecs.Mdlyr == 2021]\n",
    "# ele22 = elecs.loc[elecs.Mdlyr == 2022]\n",
    "# ele23 = elecs.loc[elecs.Mdlyr == 2023]\n",
    "# e97 = len(ele97)\n",
    "# e98 = len(ele98)\n",
    "# e99 = len(ele99)\n",
    "# e00 = len(ele00)\n",
    "# e02 = len(ele02)\n",
    "# e03 = len(ele03)\n",
    "# e08 = len(ele08)\n",
    "# e10 = len(ele10)\n",
    "# e11 = len(ele11)\n",
    "# e12 = len(ele12)\n",
    "# e13 = len(ele13)\n",
    "# e14 = len(ele14)\n",
    "# e15 = len(ele15)\n",
    "# e16 = len(ele16)\n",
    "# e17 = len(ele17)\n",
    "# e18 = len(ele18)\n",
    "# e19 = len(ele19)\n",
    "# e20 = len(ele20)\n",
    "# e21 = len(ele21)\n",
    "# e22 = len(ele22)\n",
    "# e23 = len(ele23)"
   ]
  }
 ],
 "metadata": {
  "kernelspec": {
   "display_name": "Python 3 (ipykernel)",
   "language": "python",
   "name": "python3"
  },
  "language_info": {
   "codemirror_mode": {
    "name": "ipython",
    "version": 3
   },
   "file_extension": ".py",
   "mimetype": "text/x-python",
   "name": "python",
   "nbconvert_exporter": "python",
   "pygments_lexer": "ipython3",
   "version": "3.9.7"
  }
 },
 "nbformat": 4,
 "nbformat_minor": 5
}
